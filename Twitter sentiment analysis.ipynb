{
 "cells": [
  {
   "cell_type": "code",
   "execution_count": 16,
   "metadata": {},
   "outputs": [],
   "source": [
    "import tweepy\n",
    "import pandas as pd"
   ]
  },
  {
   "cell_type": "code",
   "execution_count": 17,
   "metadata": {},
   "outputs": [],
   "source": [
    "\n",
    "consumer_key = ''\n",
    "consumer_secret = ''\n",
    "access_token = ''\n",
    "access_token_secret = ''"
   ]
  },
  {
   "cell_type": "code",
   "execution_count": 18,
   "metadata": {},
   "outputs": [
    {
     "name": "stdout",
     "output_type": "stream",
     "text": [
      "Topic on searchMachine learning\n",
      "                                              Tweets\n",
      "0  RT @BuzzTechy: Eduonix Free Discount - Mathema...\n",
      "1  RT @Ibexlabs: Curious about deep learning vers...\n",
      "2  RT @WebHostingSaver: Check the Tutorial: Rules...\n",
      "3  RT @p2pb2b: IEO Hinto starts on August 6\\nRead...\n",
      "4  Check the Tutorial: Rules of Machine Learning:...\n",
      "5  RT @SymphonyTalent_: Every organization has an...\n",
      "6  Curious about deep learning versus machine lea...\n",
      "7  RT @DigiCatNI: JOB OPPORTUNITY: @DigiCatNI is ...\n",
      "8  RT @dehora: @monkchips Speculation: Python wit...\n",
      "9  RT @MikeSchiemer: 6 Ways Machine Learning Is I...\n",
      "2019-08-02 01:03:07\n"
     ]
    }
   ],
   "source": [
    "auth = tweepy.OAuthHandler(consumer_key, consumer_secret)\n",
    "auth.set_access_token(access_token, access_token_secret)\n",
    "\n",
    "api = tweepy.API(auth)\n",
    "search=input(\"Topic on search\")\n",
    "tweets = api.search(search, count=200)\n",
    "\n",
    "\n",
    "data = pd.DataFrame(data=[tweet.text for tweet in tweets], columns=['Tweets'])\n",
    "\n",
    "print(data.head(10))\n",
    "\n",
    "\n",
    "print(tweets[0].created_at)#time at which it is created"
   ]
  },
  {
   "cell_type": "code",
   "execution_count": 19,
   "metadata": {},
   "outputs": [
    {
     "name": "stderr",
     "output_type": "stream",
     "text": [
      "[nltk_data] Downloading package vader_lexicon to\n",
      "[nltk_data]     C:\\Users\\aiman\\AppData\\Roaming\\nltk_data...\n",
      "[nltk_data]   Package vader_lexicon is already up-to-date!\n"
     ]
    }
   ],
   "source": [
    "import nltk\n",
    "nltk.download('vader_lexicon')\n",
    "from nltk.sentiment.vader import SentimentIntensityAnalyzer"
   ]
  },
  {
   "cell_type": "code",
   "execution_count": 20,
   "metadata": {},
   "outputs": [
    {
     "name": "stdout",
     "output_type": "stream",
     "text": [
      "                                              Tweets  \\\n",
      "0  RT @BuzzTechy: Eduonix Free Discount - Mathema...   \n",
      "1  RT @Ibexlabs: Curious about deep learning vers...   \n",
      "2  RT @WebHostingSaver: Check the Tutorial: Rules...   \n",
      "3  RT @p2pb2b: IEO Hinto starts on August 6\\nRead...   \n",
      "4  Check the Tutorial: Rules of Machine Learning:...   \n",
      "\n",
      "                                            polarity  \n",
      "0  {'neg': 0.0, 'neu': 0.82, 'pos': 0.18, 'compou...  \n",
      "1  {'neg': 0.0, 'neu': 0.867, 'pos': 0.133, 'comp...  \n",
      "2  {'neg': 0.0, 'neu': 0.802, 'pos': 0.198, 'comp...  \n",
      "3  {'neg': 0.0, 'neu': 1.0, 'pos': 0.0, 'compound...  \n",
      "4  {'neg': 0.0, 'neu': 0.781, 'pos': 0.219, 'comp...  \n"
     ]
    }
   ],
   "source": [
    "sid = SentimentIntensityAnalyzer()\n",
    "\n",
    "\n",
    "listy = []\n",
    "\n",
    "for index, row in data.iterrows():\n",
    "  ss = sid.polarity_scores(row[\"Tweets\"])\n",
    "  listy.append(ss)\n",
    "  \n",
    "se = pd.Series(listy)\n",
    "data['polarity'] = se.values\n",
    "\n",
    "print(data.head(5))"
   ]
  },
  {
   "cell_type": "code",
   "execution_count": null,
   "metadata": {},
   "outputs": [],
   "source": []
  }
 ],
 "metadata": {
  "kernelspec": {
   "display_name": "Python 3",
   "language": "python",
   "name": "python3"
  },
  "language_info": {
   "codemirror_mode": {
    "name": "ipython",
    "version": 3
   },
   "file_extension": ".py",
   "mimetype": "text/x-python",
   "name": "python",
   "nbconvert_exporter": "python",
   "pygments_lexer": "ipython3",
   "version": "3.7.3"
  }
 },
 "nbformat": 4,
 "nbformat_minor": 2
}
